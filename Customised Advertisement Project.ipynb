{
 "cells": [
  {
   "cell_type": "code",
   "execution_count": 17,
   "id": "48c0e65b",
   "metadata": {},
   "outputs": [],
   "source": [
    "import pandas as pd\n",
    "pd.options.display.max_rows\n",
    "import geocoder\n",
    "from datetime import datetime\n",
    "import math\n",
    "import numpy as np\n",
    "from sklearn.preprocessing import MinMaxScaler\n",
    "from sklearn.cluster import KMeans\n",
    "from yellowbrick.cluster import KElbowVisualizer"
   ]
  },
  {
   "cell_type": "markdown",
   "id": "fa3270b9",
   "metadata": {},
   "source": [
    "# 1  TRIPS & CENSUS DATA"
   ]
  },
  {
   "cell_type": "markdown",
   "id": "8a3c358d",
   "metadata": {},
   "source": [
    "# 1.1  TRIPS DATASET WORK"
   ]
  },
  {
   "cell_type": "code",
   "execution_count": 4,
   "id": "82bdabed",
   "metadata": {
    "scrolled": true
   },
   "outputs": [
    {
     "name": "stderr",
     "output_type": "stream",
     "text": [
      "C:\\Users\\javierheras\\AppData\\Local\\Temp\\ipykernel_5872\\1875490524.py:1: DtypeWarning: Columns (5,7) have mixed types. Specify dtype option on import or set low_memory=False.\n",
      "  december = pd.read_csv('202212-citibike-tripdata.csv')\n"
     ]
    },
    {
     "data": {
      "text/html": [
       "<div>\n",
       "<style scoped>\n",
       "    .dataframe tbody tr th:only-of-type {\n",
       "        vertical-align: middle;\n",
       "    }\n",
       "\n",
       "    .dataframe tbody tr th {\n",
       "        vertical-align: top;\n",
       "    }\n",
       "\n",
       "    .dataframe thead th {\n",
       "        text-align: right;\n",
       "    }\n",
       "</style>\n",
       "<table border=\"1\" class=\"dataframe\">\n",
       "  <thead>\n",
       "    <tr style=\"text-align: right;\">\n",
       "      <th></th>\n",
       "      <th>ride_id</th>\n",
       "      <th>rideable_type</th>\n",
       "      <th>started_at</th>\n",
       "      <th>ended_at</th>\n",
       "      <th>start_station_name</th>\n",
       "      <th>start_station_id</th>\n",
       "      <th>end_station_name</th>\n",
       "      <th>end_station_id</th>\n",
       "      <th>start_lat</th>\n",
       "      <th>start_lng</th>\n",
       "      <th>end_lat</th>\n",
       "      <th>end_lng</th>\n",
       "      <th>member_casual</th>\n",
       "    </tr>\n",
       "  </thead>\n",
       "  <tbody>\n",
       "    <tr>\n",
       "      <th>0</th>\n",
       "      <td>0EF496F342AD4E7E</td>\n",
       "      <td>classic_bike</td>\n",
       "      <td>2022-12-05 17:47:32</td>\n",
       "      <td>2022-12-05 18:13:10</td>\n",
       "      <td>DeKalb Ave &amp; Hudson Ave</td>\n",
       "      <td>4513.06</td>\n",
       "      <td>Perry St &amp; Bleecker St</td>\n",
       "      <td>5922.07</td>\n",
       "      <td>40.689909</td>\n",
       "      <td>-73.980552</td>\n",
       "      <td>40.735354</td>\n",
       "      <td>-74.004831</td>\n",
       "      <td>member</td>\n",
       "    </tr>\n",
       "    <tr>\n",
       "      <th>1</th>\n",
       "      <td>4B9482CBC3FAC46B</td>\n",
       "      <td>classic_bike</td>\n",
       "      <td>2022-12-08 19:08:05</td>\n",
       "      <td>2022-12-08 19:20:23</td>\n",
       "      <td>E 128 St &amp; Madison Ave</td>\n",
       "      <td>7735.23</td>\n",
       "      <td>E 142 St &amp; 3 Ave</td>\n",
       "      <td>7781.10</td>\n",
       "      <td>40.807518</td>\n",
       "      <td>-73.939027</td>\n",
       "      <td>40.812735</td>\n",
       "      <td>-73.923697</td>\n",
       "      <td>member</td>\n",
       "    </tr>\n",
       "  </tbody>\n",
       "</table>\n",
       "</div>"
      ],
      "text/plain": [
       "            ride_id rideable_type           started_at             ended_at  \\\n",
       "0  0EF496F342AD4E7E  classic_bike  2022-12-05 17:47:32  2022-12-05 18:13:10   \n",
       "1  4B9482CBC3FAC46B  classic_bike  2022-12-08 19:08:05  2022-12-08 19:20:23   \n",
       "\n",
       "        start_station_name start_station_id        end_station_name  \\\n",
       "0  DeKalb Ave & Hudson Ave          4513.06  Perry St & Bleecker St   \n",
       "1   E 128 St & Madison Ave          7735.23        E 142 St & 3 Ave   \n",
       "\n",
       "  end_station_id  start_lat  start_lng    end_lat    end_lng member_casual  \n",
       "0        5922.07  40.689909 -73.980552  40.735354 -74.004831        member  \n",
       "1        7781.10  40.807518 -73.939027  40.812735 -73.923697        member  "
      ]
     },
     "execution_count": 4,
     "metadata": {},
     "output_type": "execute_result"
    }
   ],
   "source": [
    "# Start importing the trip data from December\n",
    "december = pd.read_csv('202212-citibike-tripdata.csv')\n",
    "december.head(2)"
   ]
  },
  {
   "cell_type": "code",
   "execution_count": 11,
   "id": "ac434eab",
   "metadata": {},
   "outputs": [],
   "source": [
    "# we want to know the approximate number of bike stations in NY\n",
    "december_stations = december.groupby(['start_station_id'])\n",
    "december_ok = december_stations.first().reset_index()"
   ]
  },
  {
   "cell_type": "code",
   "execution_count": 13,
   "id": "ac863489",
   "metadata": {},
   "outputs": [
    {
     "data": {
      "text/html": [
       "<div>\n",
       "<style scoped>\n",
       "    .dataframe tbody tr th:only-of-type {\n",
       "        vertical-align: middle;\n",
       "    }\n",
       "\n",
       "    .dataframe tbody tr th {\n",
       "        vertical-align: top;\n",
       "    }\n",
       "\n",
       "    .dataframe thead th {\n",
       "        text-align: right;\n",
       "    }\n",
       "</style>\n",
       "<table border=\"1\" class=\"dataframe\">\n",
       "  <thead>\n",
       "    <tr style=\"text-align: right;\">\n",
       "      <th></th>\n",
       "      <th>start_station_id</th>\n",
       "      <th>start_lat</th>\n",
       "      <th>start_lng</th>\n",
       "    </tr>\n",
       "  </thead>\n",
       "  <tbody>\n",
       "    <tr>\n",
       "      <th>0</th>\n",
       "      <td>2733.03</td>\n",
       "      <td>40.633448</td>\n",
       "      <td>-74.016587</td>\n",
       "    </tr>\n",
       "    <tr>\n",
       "      <th>1</th>\n",
       "      <td>2782.02</td>\n",
       "      <td>40.635679</td>\n",
       "      <td>-74.020005</td>\n",
       "    </tr>\n",
       "  </tbody>\n",
       "</table>\n",
       "</div>"
      ],
      "text/plain": [
       "  start_station_id  start_lat  start_lng\n",
       "0          2733.03  40.633448 -74.016587\n",
       "1          2782.02  40.635679 -74.020005"
      ]
     },
     "execution_count": 13,
     "metadata": {},
     "output_type": "execute_result"
    }
   ],
   "source": [
    "december_st_coor = december_ok[['start_station_id','start_lat','start_lng']]\n",
    "december_st_coor.head(2)"
   ]
  },
  {
   "cell_type": "code",
   "execution_count": 49,
   "id": "9fa191ba",
   "metadata": {
    "scrolled": false
   },
   "outputs": [
    {
     "name": "stderr",
     "output_type": "stream",
     "text": [
      "C:\\Users\\javierheras\\AppData\\Local\\Temp\\ipykernel_19964\\3428398436.py:3: SettingWithCopyWarning: \n",
      "A value is trying to be set on a copy of a slice from a DataFrame\n",
      "\n",
      "See the caveats in the documentation: https://pandas.pydata.org/pandas-docs/stable/user_guide/indexing.html#returning-a-view-versus-a-copy\n",
      "  enero1['start_cd'][x]= g.postal\n"
     ]
    }
   ],
   "source": [
    "#The objective, once we have the coordinates of the stations, is to know the Community District \n",
    "#in which they are located, for this we use the geocoder library that gives us the postal code in which they are located.\n",
    "for x in range(0,len(december_st_coor['start_station_id'])):\n",
    "    g = geocoder.osm([december_st_coor['start_lat'][x],december_st_coor['start_lng'][x]], method='reverse')\n",
    "    december_st_coor['start_cd'][x]= g.postal"
   ]
  },
  {
   "cell_type": "code",
   "execution_count": 53,
   "id": "2673bbdb",
   "metadata": {},
   "outputs": [
    {
     "data": {
      "text/plain": [
       "9"
      ]
     },
     "execution_count": 53,
     "metadata": {},
     "output_type": "execute_result"
    }
   ],
   "source": [
    "#We analyze the stations that the library has not found, a total of 9 out of more than 3000.\n",
    "december_st_coor['start_cd'].isnull().sum()"
   ]
  },
  {
   "cell_type": "code",
   "execution_count": 54,
   "id": "5d9b27b2",
   "metadata": {},
   "outputs": [],
   "source": [
    "station_list = list(december_st_coor['start_station_id'])"
   ]
  },
  {
   "cell_type": "code",
   "execution_count": 55,
   "id": "25b168c1",
   "metadata": {},
   "outputs": [],
   "source": [
    "zipcode_lits = list(december_st_coor['start_cd'])"
   ]
  },
  {
   "cell_type": "code",
   "execution_count": 56,
   "id": "e47d31c5",
   "metadata": {},
   "outputs": [],
   "source": [
    "stations_tuple = list(zip(station_list,zipcode_lits))"
   ]
  },
  {
   "cell_type": "code",
   "execution_count": 58,
   "id": "156a1417",
   "metadata": {},
   "outputs": [],
   "source": [
    "#We create a dictionary with the id of the stations and the postal code to which they belong, \n",
    "#so that we can use it in all the datasets and include this information in them.\n",
    "stations_dic = dict(stations_tuple)"
   ]
  },
  {
   "cell_type": "code",
   "execution_count": 59,
   "id": "ecd0f3ea",
   "metadata": {},
   "outputs": [],
   "source": [
    "#We create two new columns with the zip codes to which the origin and destination stations belong.\n",
    "december = december.assign(Zip_code_start=december.start_station_id.map(stations_dic))"
   ]
  },
  {
   "cell_type": "code",
   "execution_count": 60,
   "id": "8e3cbe60",
   "metadata": {},
   "outputs": [],
   "source": [
    "december = december.assign(Zip_code_end=december.end_station_id.map(stations_dic))"
   ]
  },
  {
   "cell_type": "code",
   "execution_count": 64,
   "id": "6e441924",
   "metadata": {},
   "outputs": [],
   "source": [
    "december['Zip_code_start']= pd.to_numeric(december['Zip_code_start'])"
   ]
  },
  {
   "cell_type": "code",
   "execution_count": 65,
   "id": "2dd94a3e",
   "metadata": {},
   "outputs": [],
   "source": [
    "december['Zip_code_end']= pd.to_numeric(december['Zip_code_end'])"
   ]
  },
  {
   "cell_type": "code",
   "execution_count": 66,
   "id": "19211114",
   "metadata": {},
   "outputs": [],
   "source": [
    "december = december.dropna()"
   ]
  },
  {
   "cell_type": "code",
   "execution_count": 17,
   "id": "67fb0479",
   "metadata": {},
   "outputs": [],
   "source": [
    "#We created a dictionary to link postal districts to community districts\n",
    "Coincidence_data = {101: [\"Battery Park City\", [10278,10004,10005,10006,10007,10013,10038,10041,10280,10281,10282,10285]], 102: [\"Greenwich Village & Soho\",[10012,10003,10014]],103:[\"Chinatown & Lower East Side\",[10002,10009]],\n",
    "                    104:[\"Chelsea, Clinton\",[10011,10001,10019]],105:[\"Midtown Business District\",[10055,10111,10018,10020,10022,10036,10154]],106:[\"Murray Hill, Gramercy & Stuyvesant Town\",[10010,10016,10017,10174]],\n",
    "                    107:[\"Upper West Side & West Side\",[10023,10024,10025,10069]],108:[\"Upper East Side\",[10021,10028,10044,10065,10075,10128]],109:[\"Hamilton Heights, Manhattanville & West Harlem\",[10027,10031,10115]],\n",
    "                    110:[\"Central Harlem\",[10026,10030,10039]],111:[\"East Harlem\",[10029,10035,10037]],112:[\"Washington Heights, Inwood & Marble Hill\",[10032,10033,10034,10040]],\n",
    "                    \n",
    "                    201:[\"Hunts Point\",[10451,10454,10455]],202:[\"Longwood & Melrose\",[10459,10474]],\n",
    "                    203:[\"Belmont, Crotona Park East\",[10456]],204:[\"Concourse, Highbridge & Mount Eden\",[10452]],205:[\"Morris Heights, Fordham South & Mount Hope\",[10453]],206:[\"Crotona Park East & East\",[10460,10457,10460,10458]],\n",
    "                    207:[\"Bedford Park, Fordham North & Norwood\",[10468]],208:[\"Riverdale, Fieldston & Kingsbridge\",[10463,10471]],209:[\"Castle Hill, Clason Point & Parkchester\",[10742,10473]],\n",
    "                    210:[\"Co-op City, Pelham Bay & Schuylerville\",[10464,10465,10475]],211:[\"Pelham Parkway, Morris Park & Laconia\",[10462,10461,10469]],212:[\"Wakefield, Williamsbridge & Woodlawn\",[10467,10466,10470]],\n",
    "                    \n",
    "                    301:[\"Greenpoint & Williamsburg\",[11206,11211,11222,11249]],302:[\"Brooklyn Heights & Fort Greene\",[11201,11205,11217,11251]],303:[\"Bedford-Stuyvesant\",[11216]],304:[\"Bushwick\",[11237,11221]],\n",
    "                    305:[\"East New York & Starrett City\",[11207,11208,11239]],306:[\"Park Slope, Carroll Gardens & Red Hook\",[11215,11231]],\n",
    "                    307:[\"Sunset Park & Windsor Terrace \",[11220,11232]],308:[\"Crown Heights North & Prospect Heights\",[11238,11213]],\n",
    "                    309:[\"Crown Heights South, Prospect Lefferts & Wingate\",[11225]],310:[\"Bay Ridge & Dyker Heights\",[11209,11228]],\n",
    "                    311:[\"Bensonhurst & Bath Beach\",[11204,11214]],312:[\"Borough Park, Kensington & Ocean Parkway\",[11219,11218]],313:[\"Brighton Beach & Coney Island\",[11224]],\n",
    "                    314:[\"Flatbush & Midwood\",[11226,11230,11210]],315:[\"Sheepshead Bay, Gerritsen Beach & Homecrest\",[11223,11229,11235]],\n",
    "                    316:[\"Brownsville & Ocean Hill\",[11233,11212]],317:[\"East Flatbush, Farragut & Rugby\",[11203]],318:[\"Canarsie & Flatlands\",[11236]],            \n",
    "                    \n",
    "                    \n",
    "                    \n",
    "                    401:[\"Astoria & Long Island City\",[11102,11103,11105,11106]],402:[\"Sunnyside & Woodside\",[11101,11377,11104]],403:[\"Jackson Heights & North Corona\",[11370,11369,11372]],\n",
    "                    404:[\"Elmhurst & South Corona\",[11368,11373]],405:[\"Ridgewood, Glendale & Middle Village\",[11378,11379,11385]],406:[\"Forest Hills & Rego Park\",[11374,11375]],\n",
    "                    407:[\"Sunset Park & Windsor Terrace\",[11354,11355,11356,11357,11358,11359,11360]],408:[\"Briarwood, Fresh Meadows & Hillcrest\",[11365,11367,11366,11432]],\n",
    "                    409:[\"Richmond Hill & Woodhaven\",[11415,11416,11418,11421]],410:[\"Howard Beach & Ozone Park\",[11419,11414,11417,11420]],\n",
    "                    411:[\"Bayside, Douglaston & Little Neck\",[11364,11423]],412:[\"Jamaica, Hollis & St. Albans\",[11435,11412,11423,11433,11434,11436]],\n",
    "                    413:[\"Queens Village, Cambria Heights & Rosedale\",[11427,11001,11005,11413,11004,11040,11411,11413,11422,11426,11428,11429,11430]],\n",
    "                    414:[\"Far Rockaway, Breezy Point & Broad Channel\",[11691,11694,11692,11697,11693]],\n",
    "                    \n",
    "                    501:[\"Port Richmond, Stapleton & Mariner's Harbor\",[10301,10302,10303,10310]],502:[\"New Springville & South Beach\",[10304,10305,10314]],503:[\"Tottenville, Great Kills & Annadale\",[10306,10307,10308,10309,10312]]\n",
    "                   }"
   ]
  },
  {
   "cell_type": "code",
   "execution_count": null,
   "id": "6ebecc58",
   "metadata": {},
   "outputs": [],
   "source": [
    "BR_names = {'Manhattan':[101,102,103,104,105,106,107,108,109,110,111,112],\n",
    "            'Bronx':[201,202,203,204,205,206,207,208,209,210,211,212,],\n",
    "           'Brooklyn':[301,302,303,304,305,306,307,308,309,310,311,312,313,314,315,316,317,318],\n",
    "           'Queens':[401,402,403,404,405,406,407,408,409,410,411,412,413,414],\n",
    "           'Staten Island':[501,502,503]}"
   ]
  },
  {
   "cell_type": "code",
   "execution_count": 18,
   "id": "4020c629",
   "metadata": {},
   "outputs": [],
   "source": [
    "def name_district_finder(x):\n",
    "    for key, value in Coincidence_data.items():\n",
    "        if x in value[1]:\n",
    "            return value[0]"
   ]
  },
  {
   "cell_type": "code",
   "execution_count": 22,
   "id": "76ab38b4",
   "metadata": {},
   "outputs": [],
   "source": [
    "def code_district_finder(x):\n",
    "    for key, value in Coincidence_data.items():\n",
    "        if x in value[1]:\n",
    "            return key"
   ]
  },
  {
   "cell_type": "code",
   "execution_count": null,
   "id": "39845bb4",
   "metadata": {},
   "outputs": [],
   "source": [
    "def name_br_finder(x):\n",
    "    for key, value in BR_names.items():\n",
    "        if x in value:\n",
    "            return key"
   ]
  },
  {
   "cell_type": "code",
   "execution_count": 71,
   "id": "2e3e68d7",
   "metadata": {},
   "outputs": [],
   "source": [
    "#With the application of the above functions we can add to our dataset the information of \n",
    "#the code of the Community district and its name\n",
    "december['start_district_name'] = december.apply(lambda row : name_district_finder(row['Zip_code_start']), axis=1)"
   ]
  },
  {
   "cell_type": "code",
   "execution_count": 73,
   "id": "21373f4e",
   "metadata": {},
   "outputs": [],
   "source": [
    "december['end_district_name'] = december.apply(lambda row : name_district_finder(row['Zip_code_end']), axis=1)"
   ]
  },
  {
   "cell_type": "code",
   "execution_count": 75,
   "id": "8e7b75d7",
   "metadata": {},
   "outputs": [],
   "source": [
    "december['start_district_code'] = december.apply(lambda row : code_district_finder(row['Zip_code_start']), axis=1)"
   ]
  },
  {
   "cell_type": "code",
   "execution_count": 77,
   "id": "34f75739",
   "metadata": {},
   "outputs": [],
   "source": [
    "december['end_district_code'] = december.apply(lambda row : code_district_finder(row['Zip_code_end']), axis=1)"
   ]
  },
  {
   "cell_type": "code",
   "execution_count": null,
   "id": "b2555797",
   "metadata": {},
   "outputs": [],
   "source": [
    "december = december.dropna()"
   ]
  },
  {
   "cell_type": "code",
   "execution_count": null,
   "id": "6f601741",
   "metadata": {},
   "outputs": [],
   "source": [
    "december['BR_name'] = december.apply(lambda row : name_br_finder(row['start_district_code']), axis=1)"
   ]
  },
  {
   "cell_type": "code",
   "execution_count": 79,
   "id": "3d77468b",
   "metadata": {},
   "outputs": [],
   "source": [
    "def haversine(lat1, lon1, lat2, lon2):\n",
    "    rad=math.pi/180\n",
    "    dlat=lat2-lat1\n",
    "    dlon=lon2-lon1\n",
    "    R=6372.795477598\n",
    "    a=(math.sin(rad*dlat/2))**2 + math.cos(rad*lat1)*math.cos(rad*lat2)*(math.sin(rad*dlon/2))**2\n",
    "    distancia=(2*R*math.asin(math.sqrt(a)))*1000\n",
    "    return distancia"
   ]
  },
  {
   "cell_type": "code",
   "execution_count": null,
   "id": "ec4016f9",
   "metadata": {},
   "outputs": [],
   "source": [
    "december['distance'] = december.apply(lambda row : haversine(row['start_lat'],row['start_lng'],row['end_lat'],row['end_lng']), axis=1)"
   ]
  },
  {
   "cell_type": "code",
   "execution_count": null,
   "id": "c9cd8121",
   "metadata": {},
   "outputs": [],
   "source": [
    "december = december.dropna()"
   ]
  },
  {
   "cell_type": "code",
   "execution_count": 80,
   "id": "a31180f0",
   "metadata": {},
   "outputs": [],
   "source": [
    "december['started_at'] = pd.to_datetime(december['started_at'])\n",
    "december['ended_at'] = pd.to_datetime(december['ended_at'])"
   ]
  },
  {
   "cell_type": "code",
   "execution_count": 83,
   "id": "c7ff17cf",
   "metadata": {},
   "outputs": [],
   "source": [
    "#this function creates a column for the year, month and day of the date of each trip, \n",
    "#and also creates two more columns that reflect the seconds and minutes of each trip.\n",
    "def dates(df):\n",
    "    df['start_year']=df['started_at'].dt.year\n",
    "    df['start_month']=df['started_at'].dt.month\n",
    "    df['start_day']=df['started_at'].dt.day\n",
    "    t = df['ended_at']-df['started_at']\n",
    "    df['travel_time_sc'] = t.dt.seconds\n",
    "    df['travel_time_minut'] = df['travel_time_sc']/60\n",
    "    df['hours'] = df['started_at'].dt.hour\n",
    "    df['day_name'] = df['started_at'].apply(lambda x : x.strftime('%A'))\n",
    "    df['Month_name'] = df['started_at'].apply(lambda x : x.strftime('%B'))   \n",
    "    \n",
    "    return df"
   ]
  },
  {
   "cell_type": "code",
   "execution_count": null,
   "id": "5e4a941c",
   "metadata": {},
   "outputs": [],
   "source": [
    "december = dates(december)"
   ]
  },
  {
   "cell_type": "code",
   "execution_count": 120,
   "id": "2ea0899c",
   "metadata": {},
   "outputs": [],
   "source": [
    "#Applying this function to each dataset of the trips corresponding to each month, \n",
    "#we obtain the transformation obtained previously in the month of December, which we have explained step by step.\n",
    "\n",
    "def comprehensive_dataset_work(df):\n",
    "    df = df.assign(Zip_code_start=df.start_station_id.map(stations_dic))\n",
    "    df = df.assign(Zip_code_end=df.end_station_id.map(stations_dic))\n",
    "    \n",
    "    \n",
    "    df['Zip_code_start']= pd.to_numeric(df['Zip_code_start'])\n",
    "    df['Zip_code_end']= pd.to_numeric(df['Zip_code_end'])\n",
    "    \n",
    "    df = df.dropna()\n",
    "    \n",
    "    \n",
    "    df['start_district_name'] = df.apply(lambda row : name_district_finder(row['Zip_code_start']), axis=1)    \n",
    "    df['end_district_name'] = df.apply(lambda row : name_district_finder(row['Zip_code_end']), axis=1)\n",
    "    \n",
    "    \n",
    "    df['start_district_code'] = df.apply(lambda row : code_district_finder(row['Zip_code_start']), axis=1)    \n",
    "    df['end_district_code'] = df.apply(lambda row : code_district_finder(row['Zip_code_end']), axis=1)\n",
    "    \n",
    "    df = df.dropna()\n",
    "    \n",
    "    df['BR_name'] = df.apply(lambda row : name_br_finder(row['start_district_code']), axis=1)\n",
    "    \n",
    "    df['distance'] = df.apply(lambda row : haversine(row['start_lat'],row['start_lng'],row['end_lat'],row['end_lng']), axis=1)\n",
    "    \n",
    "    df = df.dropna()\n",
    "    \n",
    "    df['started_at'] = pd.to_datetime(df['started_at'])\n",
    "    df['ended_at'] = pd.to_datetime(df['ended_at'])\n",
    "    \n",
    "    \n",
    "    df = dates(df)\n",
    "    \n",
    "    \n",
    "    return df    "
   ]
  },
  {
   "cell_type": "code",
   "execution_count": 87,
   "id": "5b9cdd9b",
   "metadata": {},
   "outputs": [
    {
     "name": "stderr",
     "output_type": "stream",
     "text": [
      "C:\\Users\\javierheras\\AppData\\Local\\Temp\\ipykernel_19964\\2226983112.py:1: DtypeWarning: Columns (5,7) have mixed types. Specify dtype option on import or set low_memory=False.\n",
      "  november = pd.read_csv('202211-citibike-tripdata.csv')\n"
     ]
    }
   ],
   "source": [
    "november = pd.read_csv('202211-citibike-tripdata.csv')"
   ]
  },
  {
   "cell_type": "code",
   "execution_count": 88,
   "id": "f6bb3774",
   "metadata": {},
   "outputs": [
    {
     "name": "stderr",
     "output_type": "stream",
     "text": [
      "C:\\Users\\javierheras\\AppData\\Local\\Temp\\ipykernel_19964\\680787243.py:1: DtypeWarning: Columns (5,7) have mixed types. Specify dtype option on import or set low_memory=False.\n",
      "  october = pd.read_csv('202210-citibike-tripdata.csv')\n"
     ]
    }
   ],
   "source": [
    "october = pd.read_csv('202210-citibike-tripdata.csv')"
   ]
  },
  {
   "cell_type": "code",
   "execution_count": 89,
   "id": "949b297b",
   "metadata": {},
   "outputs": [
    {
     "name": "stderr",
     "output_type": "stream",
     "text": [
      "C:\\Users\\javierheras\\AppData\\Local\\Temp\\ipykernel_19964\\2179174460.py:1: DtypeWarning: Columns (5,7) have mixed types. Specify dtype option on import or set low_memory=False.\n",
      "  september = pd.read_csv('202209-citibike-tripdata.csv')\n"
     ]
    }
   ],
   "source": [
    "september = pd.read_csv('202209-citibike-tripdata.csv')"
   ]
  },
  {
   "cell_type": "code",
   "execution_count": 90,
   "id": "52048cfe",
   "metadata": {},
   "outputs": [
    {
     "name": "stderr",
     "output_type": "stream",
     "text": [
      "C:\\Users\\javierheras\\AppData\\Local\\Temp\\ipykernel_19964\\193552100.py:1: DtypeWarning: Columns (5,7) have mixed types. Specify dtype option on import or set low_memory=False.\n",
      "  august = pd.read_csv('202208-citibike-tripdata.csv')\n"
     ]
    }
   ],
   "source": [
    "august = pd.read_csv('202208-citibike-tripdata.csv')"
   ]
  },
  {
   "cell_type": "code",
   "execution_count": 91,
   "id": "3273662a",
   "metadata": {},
   "outputs": [
    {
     "name": "stderr",
     "output_type": "stream",
     "text": [
      "C:\\Users\\javierheras\\AppData\\Local\\Temp\\ipykernel_19964\\522501241.py:1: DtypeWarning: Columns (5,7) have mixed types. Specify dtype option on import or set low_memory=False.\n",
      "  july = pd.read_csv('202207-citbike-tripdata.csv')\n"
     ]
    }
   ],
   "source": [
    "july = pd.read_csv('202207-citbike-tripdata.csv')"
   ]
  },
  {
   "cell_type": "code",
   "execution_count": 92,
   "id": "653289d0",
   "metadata": {},
   "outputs": [
    {
     "name": "stderr",
     "output_type": "stream",
     "text": [
      "C:\\Users\\javierheras\\AppData\\Local\\Temp\\ipykernel_19964\\1346284269.py:1: DtypeWarning: Columns (5,7) have mixed types. Specify dtype option on import or set low_memory=False.\n",
      "  june = pd.read_csv('202206-citbike-tripdata.csv')\n"
     ]
    }
   ],
   "source": [
    "june = pd.read_csv('202206-citbike-tripdata.csv')"
   ]
  },
  {
   "cell_type": "code",
   "execution_count": 93,
   "id": "6d5f8bd5",
   "metadata": {},
   "outputs": [
    {
     "name": "stderr",
     "output_type": "stream",
     "text": [
      "C:\\Users\\javierheras\\AppData\\Local\\Temp\\ipykernel_19964\\1503459682.py:1: DtypeWarning: Columns (5,7) have mixed types. Specify dtype option on import or set low_memory=False.\n",
      "  may = pd.read_csv('202205-citibike-tripdata.csv')\n"
     ]
    }
   ],
   "source": [
    "may = pd.read_csv('202205-citibike-tripdata.csv')"
   ]
  },
  {
   "cell_type": "code",
   "execution_count": 94,
   "id": "58c59d16",
   "metadata": {},
   "outputs": [
    {
     "name": "stderr",
     "output_type": "stream",
     "text": [
      "C:\\Users\\javierheras\\AppData\\Local\\Temp\\ipykernel_19964\\1949911740.py:1: DtypeWarning: Columns (5,7) have mixed types. Specify dtype option on import or set low_memory=False.\n",
      "  april = pd.read_csv('202204-citibike-tripdata.csv')\n"
     ]
    }
   ],
   "source": [
    "april = pd.read_csv('202204-citibike-tripdata.csv')"
   ]
  },
  {
   "cell_type": "code",
   "execution_count": 95,
   "id": "91b87308",
   "metadata": {},
   "outputs": [
    {
     "name": "stderr",
     "output_type": "stream",
     "text": [
      "C:\\Users\\javierheras\\AppData\\Local\\Temp\\ipykernel_19964\\310835775.py:1: DtypeWarning: Columns (5,7) have mixed types. Specify dtype option on import or set low_memory=False.\n",
      "  march = pd.read_csv('202203-citibike-tripdata.csv')\n"
     ]
    }
   ],
   "source": [
    "march = pd.read_csv('202203-citibike-tripdata.csv')"
   ]
  },
  {
   "cell_type": "code",
   "execution_count": 96,
   "id": "55b9fa0f",
   "metadata": {},
   "outputs": [
    {
     "name": "stderr",
     "output_type": "stream",
     "text": [
      "C:\\Users\\javierheras\\AppData\\Local\\Temp\\ipykernel_19964\\4165505551.py:1: DtypeWarning: Columns (5,7) have mixed types. Specify dtype option on import or set low_memory=False.\n",
      "  february = pd.read_csv('202202-citibike-tripdata.csv')\n"
     ]
    }
   ],
   "source": [
    "february = pd.read_csv('202202-citibike-tripdata.csv')"
   ]
  },
  {
   "cell_type": "code",
   "execution_count": 97,
   "id": "f0cd81c9",
   "metadata": {},
   "outputs": [
    {
     "name": "stderr",
     "output_type": "stream",
     "text": [
      "C:\\Users\\javierheras\\AppData\\Local\\Temp\\ipykernel_19964\\1796573794.py:1: DtypeWarning: Columns (5,7) have mixed types. Specify dtype option on import or set low_memory=False.\n",
      "  january = pd.read_csv('202201-citibike-tripdata.csv')\n"
     ]
    }
   ],
   "source": [
    "january = pd.read_csv('202201-citibike-tripdata.csv')"
   ]
  },
  {
   "cell_type": "code",
   "execution_count": 121,
   "id": "89f49a7b",
   "metadata": {},
   "outputs": [],
   "source": [
    "november = comprehensive_dataset_work(november)"
   ]
  },
  {
   "cell_type": "code",
   "execution_count": 122,
   "id": "408f6fee",
   "metadata": {},
   "outputs": [],
   "source": [
    "october = comprehensive_dataset_work(october)"
   ]
  },
  {
   "cell_type": "code",
   "execution_count": 123,
   "id": "56ea0b5e",
   "metadata": {},
   "outputs": [],
   "source": [
    "september = comprehensive_dataset_work(september)"
   ]
  },
  {
   "cell_type": "code",
   "execution_count": 124,
   "id": "90c2c1f8",
   "metadata": {},
   "outputs": [],
   "source": [
    "august = comprehensive_dataset_work(august)"
   ]
  },
  {
   "cell_type": "code",
   "execution_count": 125,
   "id": "640076e1",
   "metadata": {},
   "outputs": [],
   "source": [
    "july = comprehensive_dataset_work(july)"
   ]
  },
  {
   "cell_type": "code",
   "execution_count": 126,
   "id": "91bdbf55",
   "metadata": {},
   "outputs": [],
   "source": [
    "june = comprehensive_dataset_work(june)"
   ]
  },
  {
   "cell_type": "code",
   "execution_count": 127,
   "id": "f5cfb945",
   "metadata": {},
   "outputs": [],
   "source": [
    "may = comprehensive_dataset_work(may)"
   ]
  },
  {
   "cell_type": "code",
   "execution_count": 128,
   "id": "c5313f42",
   "metadata": {},
   "outputs": [],
   "source": [
    "april = comprehensive_dataset_work(april)"
   ]
  },
  {
   "cell_type": "code",
   "execution_count": 129,
   "id": "2833271a",
   "metadata": {},
   "outputs": [],
   "source": [
    "march = comprehensive_dataset_work(march)"
   ]
  },
  {
   "cell_type": "code",
   "execution_count": 130,
   "id": "1feca6b1",
   "metadata": {},
   "outputs": [],
   "source": [
    "february = comprehensive_dataset_work(february)"
   ]
  },
  {
   "cell_type": "code",
   "execution_count": 131,
   "id": "790b668c",
   "metadata": {},
   "outputs": [],
   "source": [
    "january = comprehensive_dataset_work(january)"
   ]
  },
  {
   "cell_type": "code",
   "execution_count": 132,
   "id": "9b5188e0",
   "metadata": {},
   "outputs": [],
   "source": [
    "year_dataset = pd.concat([january,february,march,april,may,june,july,august,september,october,november,december], axis = 0)"
   ]
  },
  {
   "cell_type": "code",
   "execution_count": 140,
   "id": "ef225f42",
   "metadata": {},
   "outputs": [],
   "source": [
    "year_dataset.to_csv('year_dataset.csv')"
   ]
  },
  {
   "cell_type": "code",
   "execution_count": null,
   "id": "7644684f",
   "metadata": {},
   "outputs": [],
   "source": [
    "#We will differentiate by type of person who uses the bicycle, we are interested in those who use it continuously, \n",
    "#it is to those who will be directed our advertising, so we will create a dataset for the latter.\n",
    "year_dataset_member = year_dataset[year_dataset['member_casual']=='member']"
   ]
  },
  {
   "cell_type": "code",
   "execution_count": null,
   "id": "b04aaf6d",
   "metadata": {},
   "outputs": [],
   "source": [
    "year_dataset_casual = year_dataset[year_dataset['member_casual']=='casual']"
   ]
  },
  {
   "cell_type": "code",
   "execution_count": null,
   "id": "ccc5b9bd",
   "metadata": {},
   "outputs": [],
   "source": [
    "year_dataset_member=year_dataset_member.drop(['Unnamed: 0.1','Unnamed: 0'],axis=1)\n",
    "year_dataset_casual=year_dataset_casual.drop(['Unnamed: 0.1','Unnamed: 0'],axis=1)"
   ]
  },
  {
   "cell_type": "code",
   "execution_count": null,
   "id": "3353c153",
   "metadata": {},
   "outputs": [],
   "source": [
    "year_dataset_member.to_csv('year_dataset_member.csv')"
   ]
  },
  {
   "cell_type": "code",
   "execution_count": null,
   "id": "9e2595e4",
   "metadata": {},
   "outputs": [],
   "source": [
    "year_dataset_casual.to_csv('year_dataset_casual.csv')"
   ]
  },
  {
   "cell_type": "code",
   "execution_count": null,
   "id": "38c969da",
   "metadata": {},
   "outputs": [],
   "source": [
    "#Now we are going to eliminate outliners or trip errors, trips with travel time of less than 30 seconds and \n",
    "#more than two hours are eliminated.\n",
    "year_dataset_member.drop(year_dataset_member[year_dataset_member['travel_time_sc'] >7200].index,inplace=True)"
   ]
  },
  {
   "cell_type": "code",
   "execution_count": null,
   "id": "8dd86a48",
   "metadata": {},
   "outputs": [],
   "source": [
    "year_dataset_member.drop(year_dataset_member[year_dataset_member['travel_time_sc'] <30].index,inplace=True)"
   ]
  },
  {
   "cell_type": "code",
   "execution_count": null,
   "id": "2bcf50fa",
   "metadata": {},
   "outputs": [],
   "source": [
    "#Once we have the dataset with all the information we need for the analysis, \n",
    "#we make a sample of 14000000 million trips, tableau works less efficiently with datasets of between 10 and 15 million lines, \n",
    "#but we need a sufficiently representative dataset for our analysis.\n",
    "year_dataset_member_tableau = year_dataset_member.sample(14000000)"
   ]
  },
  {
   "cell_type": "code",
   "execution_count": null,
   "id": "e1aec9bc",
   "metadata": {},
   "outputs": [],
   "source": [
    "year_dataset_member_tableau =  pd.read_csv('year_dataset_member_tableau.csv')"
   ]
  },
  {
   "cell_type": "code",
   "execution_count": null,
   "id": "c3837ff0",
   "metadata": {},
   "outputs": [],
   "source": []
  },
  {
   "cell_type": "markdown",
   "id": "7806be3f",
   "metadata": {},
   "source": [
    "# 1.2  CENSUS DATA"
   ]
  },
  {
   "cell_type": "code",
   "execution_count": 20,
   "id": "c48056bf",
   "metadata": {},
   "outputs": [],
   "source": [
    "#we import the census data that appears in the web https://data.census.gov/\n",
    "census_cd_percentage = pd.read_csv('census_cd_completo.csv')"
   ]
  },
  {
   "cell_type": "code",
   "execution_count": 21,
   "id": "950e7b73",
   "metadata": {},
   "outputs": [],
   "source": [
    "#remove the data which is not a percentage, we only want the percentages to show its in Tableau\n",
    "census_cd_percentage = census_cd_percentage.drop([\n",
    " \n",
    " 'New York!!Estimate',\n",
    " \n",
    " 'NYC-Bronx Community District 8--Riverdale, Fieldston & Kingsbridge PUMA; New York!!Estimate',\n",
    " \n",
    " 'NYC-Bronx Community District 12--Wakefield, Williamsbridge & Woodlawn PUMA; New York!!Estimate',\n",
    " \n",
    " 'NYC-Bronx Community District 10--Co-op City, Pelham Bay & Schuylerville PUMA; New York!!Estimate',\n",
    " \n",
    " 'NYC-Bronx Community District 11--Pelham Parkway, Morris Park & Laconia PUMA; New York!!Estimate',\n",
    " \n",
    " 'NYC-Bronx Community District 3 & 6--Belmont, Crotona Park East & East Tremont PUMA; New York!!Estimate',\n",
    " \n",
    " 'NYC-Bronx Community District 7--Bedford Park, Fordham North & Norwood PUMA; New York!!Estimate',\n",
    " \n",
    " 'NYC-Bronx Community District 5--Morris Heights, Fordham South & Mount Hope PUMA; New York!!Estimate',\n",
    " \n",
    " 'NYC-Bronx Community District 4--Concourse, Highbridge & Mount Eden PUMA; New York!!Estimate',\n",
    " \n",
    " 'NYC-Bronx Community District 9--Castle Hill, Clason Point & Parkchester PUMA; New York!!Estimate',\n",
    " \n",
    " 'NYC-Bronx Community District 1 & 2--Hunts Point, Longwood & Melrose PUMA; New York!!Estimate',\n",
    " \n",
    " 'NYC-Manhattan Community District 12--Washington Heights, Inwood & Marble Hill PUMA; New York!!Estimate',\n",
    " \n",
    " 'NYC-Manhattan Community District 9--Hamilton Heights, Manhattanville & West Harlem PUMA; New York!!Estimate',\n",
    " \n",
    " 'NYC-Manhattan Community District 10--Central Harlem PUMA, New York!!Estimate',\n",
    " \n",
    " 'NYC-Manhattan Community District 11--East Harlem PUMA, New York!!Estimate',\n",
    " \n",
    " 'NYC-Manhattan Community District 8--Upper East Side PUMA, New York!!Estimate',\n",
    " \n",
    " 'NYC-Manhattan Community District 7--Upper West Side & West Side PUMA, New York!!Estimate',\n",
    " \n",
    " 'NYC-Manhattan Community District 4 & 5--Chelsea, Clinton & Midtown Business District PUMA; New York!!Estimate',\n",
    " \n",
    " 'NYC-Manhattan Community District 6--Murray Hill, Gramercy & Stuyvesant Town PUMA; New York!!Estimate',\n",
    " \n",
    " 'NYC-Manhattan Community District 3--Chinatown & Lower East Side PUMA, New York!!Estimate',\n",
    "\n",
    " 'NYC-Manhattan Community District 1 & 2--Battery Park City, Greenwich Village & Soho PUMA; New York!!Estimate',\n",
    " \n",
    " 'NYC-Staten Island Community District 3--Tottenville, Great Kills & Annadale PUMA; New York!!Estimate',\n",
    "\n",
    " 'NYC-Staten Island Community District 2--New Springville & South Beach PUMA, New York!!Estimate',\n",
    " \n",
    " \"NYC-Staten Island Community District 1--Port Richmond, Stapleton & Mariner's Harbor PUMA; New York!!Estimate\",\n",
    " \n",
    " 'NYC-Brooklyn Community District 1--Greenpoint & Williamsburg PUMA, New York!!Estimate',\n",
    " \n",
    " 'NYC-Brooklyn Community District 4--Bushwick PUMA, New York!!Estimate',\n",
    " \n",
    " 'NYC-Brooklyn Community District 3--Bedford-Stuyvesant PUMA, New York!!Estimate',\n",
    "\n",
    " 'NYC-Brooklyn Community District 2--Brooklyn Heights & Fort Greene PUMA, New York!!Estimate',\n",
    " \n",
    " 'NYC-Brooklyn Community District 6--Park Slope, Carroll Gardens & Red Hook PUMA; New York!!Estimate',\n",
    " \n",
    " 'NYC-Brooklyn Community District 8--Crown Heights North & Prospect Heights PUMA, New York!!Estimate',\n",
    " \n",
    " 'NYC-Brooklyn Community District 16--Brownsville & Ocean Hill PUMA, New York!!Estimate',\n",
    " \n",
    " 'NYC-Brooklyn Community District 5--East New York & Starrett City PUMA, New York!!Estimate',\n",
    " \n",
    " 'NYC-Brooklyn Community District 18--Canarsie & Flatlands PUMA, New York!!Estimate',\n",
    " \n",
    " 'NYC-Brooklyn Community District 17--East Flatbush, Farragut & Rugby PUMA; New York!!Estimate',\n",
    "\n",
    " 'NYC-Brooklyn Community District 9--Crown Heights South, Prospect Lefferts & Wingate PUMA; New York!!Estimate',\n",
    "\n",
    " 'NYC-Brooklyn Community District 7--Sunset Park & Windsor Terrace PUMA, New York!!Estimate',\n",
    " \n",
    " 'NYC-Brooklyn Community District 10--Bay Ridge & Dyker Heights PUMA, New York!!Estimate',\n",
    "\n",
    " 'NYC-Brooklyn Community District 12--Borough Park, Kensington & Ocean Parkway PUMA; New York!!Estimate',\n",
    " \n",
    " 'NYC-Brooklyn Community District 14--Flatbush & Midwood PUMA, New York!!Estimate',\n",
    " \n",
    " 'NYC-Brooklyn Community District 15--Sheepshead Bay, Gerritsen Beach & Homecrest PUMA; New York!!Estimate',\n",
    " \n",
    " 'NYC-Brooklyn Community District 11--Bensonhurst & Bath Beach PUMA, New York!!Estimate',\n",
    "\n",
    " 'NYC-Brooklyn Community District 13--Brighton Beach & Coney Island PUMA, New York!!Estimate',\n",
    " \n",
    " 'NYC-Queens Community District 1--Astoria & Long Island City PUMA, New York!!Estimate',\n",
    "\n",
    " 'NYC-Queens Community District 3--Jackson Heights & North Corona PUMA, New York!!Estimate',\n",
    "\n",
    " 'NYC-Queens Community District 7--Flushing, Murray Hill & Whitestone PUMA; New York!!Estimate',\n",
    " \n",
    " 'NYC-Queens Community District 11--Bayside, Douglaston & Little Neck PUMA; New York!!Estimate',\n",
    " \n",
    " 'NYC-Queens Community District 13--Queens Village, Cambria Heights & Rosedale PUMA; New York!!Estimate',\n",
    "\n",
    " 'NYC-Queens Community District 8--Briarwood, Fresh Meadows & Hillcrest PUMA; New York!!Estimate',\n",
    " \n",
    " 'NYC-Queens Community District 4--Elmhurst & South Corona PUMA, New York!!Estimate',\n",
    "\n",
    " 'NYC-Queens Community District 6--Forest Hills & Rego Park PUMA, New York!!Estimate',\n",
    "\n",
    " 'NYC-Queens Community District 2--Sunnyside & Woodside PUMA, New York!!Estimate',\n",
    " \n",
    " 'NYC-Queens Community District 5--Ridgewood, Glendale & Middle Village PUMA; New York!!Estimate',\n",
    " \n",
    " 'NYC-Queens Community District 9--Richmond Hill & Woodhaven PUMA, New York!!Estimate',\n",
    " \n",
    " 'NYC-Queens Community District 12--Jamaica, Hollis & St. Albans PUMA; New York!!Estimate',\n",
    "\n",
    " 'NYC-Queens Community District 10--Howard Beach & Ozone Park PUMA, New York!!Estimate',\n",
    "\n",
    " 'NYC-Queens Community District 14--Far Rockaway, Breezy Point & Broad Channel PUMA; New York!!Estimate'], axis=1)"
   ]
  },
  {
   "cell_type": "code",
   "execution_count": 22,
   "id": "8be42a71",
   "metadata": {},
   "outputs": [],
   "source": [
    "#remove all the data less the gender, age and etnic data\n",
    "census_cd_percentage = census_cd_percentage.drop([0,1,4,18,19,20,21,22,23,24,25,26,27,28,29,30,31,32,33,34,35,36,37,38,39,40,41,42,43,44,45,46,47,48,49,50,51,52,53,54,55,56,57,58,59,60,61,62,63,64,65,66,67,68,69,70,71,72,73,\n",
    "                                                 75,76,77,78,79,87,88,89,90,91,92,93],axis=0)"
   ]
  },
  {
   "cell_type": "code",
   "execution_count": 23,
   "id": "ff684c95",
   "metadata": {},
   "outputs": [],
   "source": [
    "census_cd_percentage = census_cd_percentage.set_index('Label (Grouping)')"
   ]
  },
  {
   "cell_type": "code",
   "execution_count": 24,
   "id": "f8c6337b",
   "metadata": {},
   "outputs": [],
   "source": [
    "census_cd_percentage = census_cd_percentage.transpose()"
   ]
  },
  {
   "cell_type": "code",
   "execution_count": 25,
   "id": "c4884cf8",
   "metadata": {},
   "outputs": [],
   "source": [
    "census_cd_percentage = census_cd_percentage.drop('New York!!Percent',axis=0)"
   ]
  },
  {
   "cell_type": "code",
   "execution_count": 26,
   "id": "cf830d5d",
   "metadata": {},
   "outputs": [],
   "source": [
    "census_cd_percentage =  census_cd_percentage.replace('%','',regex=True)  "
   ]
  },
  {
   "cell_type": "code",
   "execution_count": 27,
   "id": "bc9a96c0",
   "metadata": {},
   "outputs": [],
   "source": [
    "census_cd_percentage =  census_cd_percentage.astype(float)"
   ]
  },
  {
   "cell_type": "code",
   "execution_count": 28,
   "id": "a5ed107c",
   "metadata": {},
   "outputs": [],
   "source": [
    "repe = census_cd_percentage.iloc[[4,9,16,19]]"
   ]
  },
  {
   "cell_type": "code",
   "execution_count": 29,
   "id": "f9260c67",
   "metadata": {},
   "outputs": [],
   "source": [
    "repe =(repe/2)"
   ]
  },
  {
   "cell_type": "code",
   "execution_count": 30,
   "id": "43aa141c",
   "metadata": {},
   "outputs": [],
   "source": [
    "census_cd_percentage = census_cd_percentage.drop([\"NYC-Bronx Community District 3 & 6--Belmont, Crotona Park East & East Tremont PUMA; New York!!Percent\",\n",
    "                            \"NYC-Bronx Community District 1 & 2--Hunts Point, Longwood & Melrose PUMA; New York!!Percent\",\n",
    "                            \"NYC-Manhattan Community District 4 & 5--Chelsea, Clinton & Midtown Business District PUMA; New York!!Percent\"\n",
    "                            ,\"NYC-Manhattan Community District 1 & 2--Battery Park City, Greenwich Village & Soho PUMA; New York!!Percent\"],axis=0)"
   ]
  },
  {
   "cell_type": "code",
   "execution_count": 31,
   "id": "a77f1194",
   "metadata": {},
   "outputs": [
    {
     "name": "stderr",
     "output_type": "stream",
     "text": [
      "C:\\Users\\javierheras\\AppData\\Local\\Temp\\ipykernel_5872\\1580879092.py:1: FutureWarning: The frame.append method is deprecated and will be removed from pandas in a future version. Use pandas.concat instead.\n",
      "  census_cd_percentage = census_cd_percentage.append([repe]*2)\n"
     ]
    }
   ],
   "source": [
    "census_cd_percentage = census_cd_percentage.append([repe]*2)"
   ]
  },
  {
   "cell_type": "code",
   "execution_count": 32,
   "id": "8b36ff2f",
   "metadata": {},
   "outputs": [],
   "source": [
    "CD_code = [208,212,210,211,207,205,204,209,112,109,110,111,108,107\n",
    "           ,106,103,503,502,501,301,304,303,302,306,308,316,305,318,317,\n",
    "           309,307,310,312,314,315,311,313,401,403,407,411,413,408,404,406,402,405,409,412,410,414,203,201,104,101,206,202,105,102]"
   ]
  },
  {
   "cell_type": "code",
   "execution_count": 33,
   "id": "ae343d0f",
   "metadata": {},
   "outputs": [],
   "source": [
    "BC = ['Bronx','Bronx','Bronx','Bronx','Bronx','Bronx','Bronx','Bronx','Manhattan','Manhattan',\n",
    "      'Manhattan','Manhattan','Manhattan','Manhattan','Manhattan','Manhattan','Staten Island','Staten Island','Staten Island',\n",
    "     'Brooklyn','Brooklyn','Brooklyn','Brooklyn','Brooklyn','Brooklyn','Brooklyn','Brooklyn','Brooklyn','Brooklyn','Brooklyn',\n",
    "      'Brooklyn','Brooklyn','Brooklyn','Brooklyn','Brooklyn','Brooklyn','Brooklyn','Queens','Queens','Queens','Queens','Queens','Queens',\n",
    "      'Queens','Queens','Queens','Queens','Queens','Queens','Queens','Queens','Bronx','Bronx','Manhattan','Manhattan','Bronx','Bronx','Manhattan','Manhattan']"
   ]
  },
  {
   "cell_type": "code",
   "execution_count": 34,
   "id": "e2613248",
   "metadata": {},
   "outputs": [],
   "source": [
    "census_cd_percentage['BD_name'] = BC"
   ]
  },
  {
   "cell_type": "code",
   "execution_count": 35,
   "id": "7582afba",
   "metadata": {},
   "outputs": [],
   "source": [
    "census_cd_percentage['CD_code'] = CD_code"
   ]
  },
  {
   "cell_type": "code",
   "execution_count": null,
   "id": "9b6d9378",
   "metadata": {},
   "outputs": [],
   "source": [
    "census_cd_percentage.to_csv('census_cd_percentage_tableau.csv')"
   ]
  },
  {
   "cell_type": "code",
   "execution_count": null,
   "id": "3d8d360f",
   "metadata": {},
   "outputs": [],
   "source": []
  },
  {
   "cell_type": "code",
   "execution_count": null,
   "id": "38014abc",
   "metadata": {},
   "outputs": [],
   "source": [
    "census_cd2_percentage = pd.read_csv('census_completo.csv')"
   ]
  },
  {
   "cell_type": "code",
   "execution_count": null,
   "id": "5f18023a",
   "metadata": {},
   "outputs": [],
   "source": [
    "census_cd2_percentage = census_cd2_percentage.drop([\n",
    " \n",
    " 'New York!!Estimate',\n",
    " \n",
    " 'NYC-Bronx Community District 8--Riverdale, Fieldston & Kingsbridge PUMA; New York!!Estimate',\n",
    " \n",
    " 'NYC-Bronx Community District 12--Wakefield, Williamsbridge & Woodlawn PUMA; New York!!Estimate',\n",
    " \n",
    " 'NYC-Bronx Community District 10--Co-op City, Pelham Bay & Schuylerville PUMA; New York!!Estimate',\n",
    " \n",
    " 'NYC-Bronx Community District 11--Pelham Parkway, Morris Park & Laconia PUMA; New York!!Estimate',\n",
    " \n",
    " 'NYC-Bronx Community District 3 & 6--Belmont, Crotona Park East & East Tremont PUMA; New York!!Estimate',\n",
    " \n",
    " 'NYC-Bronx Community District 7--Bedford Park, Fordham North & Norwood PUMA; New York!!Estimate',\n",
    " \n",
    " 'NYC-Bronx Community District 5--Morris Heights, Fordham South & Mount Hope PUMA; New York!!Estimate',\n",
    " \n",
    " 'NYC-Bronx Community District 4--Concourse, Highbridge & Mount Eden PUMA; New York!!Estimate',\n",
    " \n",
    " 'NYC-Bronx Community District 9--Castle Hill, Clason Point & Parkchester PUMA; New York!!Estimate',\n",
    " \n",
    " 'NYC-Bronx Community District 1 & 2--Hunts Point, Longwood & Melrose PUMA; New York!!Estimate',\n",
    " \n",
    " 'NYC-Manhattan Community District 12--Washington Heights, Inwood & Marble Hill PUMA; New York!!Estimate',\n",
    " \n",
    " 'NYC-Manhattan Community District 9--Hamilton Heights, Manhattanville & West Harlem PUMA; New York!!Estimate',\n",
    " \n",
    " 'NYC-Manhattan Community District 10--Central Harlem PUMA, New York!!Estimate',\n",
    " \n",
    " 'NYC-Manhattan Community District 11--East Harlem PUMA, New York!!Estimate',\n",
    " \n",
    " 'NYC-Manhattan Community District 8--Upper East Side PUMA, New York!!Estimate',\n",
    " \n",
    " 'NYC-Manhattan Community District 7--Upper West Side & West Side PUMA, New York!!Estimate',\n",
    " \n",
    " 'NYC-Manhattan Community District 4 & 5--Chelsea, Clinton & Midtown Business District PUMA; New York!!Estimate',\n",
    " \n",
    " 'NYC-Manhattan Community District 6--Murray Hill, Gramercy & Stuyvesant Town PUMA; New York!!Estimate',\n",
    " \n",
    " 'NYC-Manhattan Community District 3--Chinatown & Lower East Side PUMA, New York!!Estimate',\n",
    "\n",
    " 'NYC-Manhattan Community District 1 & 2--Battery Park City, Greenwich Village & Soho PUMA; New York!!Estimate',\n",
    " \n",
    " 'NYC-Staten Island Community District 3--Tottenville, Great Kills & Annadale PUMA; New York!!Estimate',\n",
    "\n",
    " 'NYC-Staten Island Community District 2--New Springville & South Beach PUMA, New York!!Estimate',\n",
    " \n",
    " \"NYC-Staten Island Community District 1--Port Richmond, Stapleton & Mariner's Harbor PUMA; New York!!Estimate\",\n",
    " \n",
    " 'NYC-Brooklyn Community District 1--Greenpoint & Williamsburg PUMA, New York!!Estimate',\n",
    " \n",
    " 'NYC-Brooklyn Community District 4--Bushwick PUMA, New York!!Estimate',\n",
    " \n",
    " 'NYC-Brooklyn Community District 3--Bedford-Stuyvesant PUMA, New York!!Estimate',\n",
    "\n",
    " 'NYC-Brooklyn Community District 2--Brooklyn Heights & Fort Greene PUMA, New York!!Estimate',\n",
    " \n",
    " 'NYC-Brooklyn Community District 6--Park Slope, Carroll Gardens & Red Hook PUMA; New York!!Estimate',\n",
    " \n",
    " 'NYC-Brooklyn Community District 8--Crown Heights North & Prospect Heights PUMA, New York!!Estimate',\n",
    " \n",
    " 'NYC-Brooklyn Community District 16--Brownsville & Ocean Hill PUMA, New York!!Estimate',\n",
    " \n",
    " 'NYC-Brooklyn Community District 5--East New York & Starrett City PUMA, New York!!Estimate',\n",
    " \n",
    " 'NYC-Brooklyn Community District 18--Canarsie & Flatlands PUMA, New York!!Estimate',\n",
    " \n",
    " 'NYC-Brooklyn Community District 17--East Flatbush, Farragut & Rugby PUMA; New York!!Estimate',\n",
    "\n",
    " 'NYC-Brooklyn Community District 9--Crown Heights South, Prospect Lefferts & Wingate PUMA; New York!!Estimate',\n",
    "\n",
    " 'NYC-Brooklyn Community District 7--Sunset Park & Windsor Terrace PUMA, New York!!Estimate',\n",
    " \n",
    " 'NYC-Brooklyn Community District 10--Bay Ridge & Dyker Heights PUMA, New York!!Estimate',\n",
    "\n",
    " 'NYC-Brooklyn Community District 12--Borough Park, Kensington & Ocean Parkway PUMA; New York!!Estimate',\n",
    " \n",
    " 'NYC-Brooklyn Community District 14--Flatbush & Midwood PUMA, New York!!Estimate',\n",
    " \n",
    " 'NYC-Brooklyn Community District 15--Sheepshead Bay, Gerritsen Beach & Homecrest PUMA; New York!!Estimate',\n",
    " \n",
    " 'NYC-Brooklyn Community District 11--Bensonhurst & Bath Beach PUMA, New York!!Estimate',\n",
    "\n",
    " 'NYC-Brooklyn Community District 13--Brighton Beach & Coney Island PUMA, New York!!Estimate',\n",
    " \n",
    " 'NYC-Queens Community District 1--Astoria & Long Island City PUMA, New York!!Estimate',\n",
    "\n",
    " 'NYC-Queens Community District 3--Jackson Heights & North Corona PUMA, New York!!Estimate',\n",
    "\n",
    " 'NYC-Queens Community District 7--Flushing, Murray Hill & Whitestone PUMA; New York!!Estimate',\n",
    " \n",
    " 'NYC-Queens Community District 11--Bayside, Douglaston & Little Neck PUMA; New York!!Estimate',\n",
    " \n",
    " 'NYC-Queens Community District 13--Queens Village, Cambria Heights & Rosedale PUMA; New York!!Estimate',\n",
    "\n",
    " 'NYC-Queens Community District 8--Briarwood, Fresh Meadows & Hillcrest PUMA; New York!!Estimate',\n",
    " \n",
    " 'NYC-Queens Community District 4--Elmhurst & South Corona PUMA, New York!!Estimate',\n",
    "\n",
    " 'NYC-Queens Community District 6--Forest Hills & Rego Park PUMA, New York!!Estimate',\n",
    "\n",
    " 'NYC-Queens Community District 2--Sunnyside & Woodside PUMA, New York!!Estimate',\n",
    " \n",
    " 'NYC-Queens Community District 5--Ridgewood, Glendale & Middle Village PUMA; New York!!Estimate',\n",
    " \n",
    " 'NYC-Queens Community District 9--Richmond Hill & Woodhaven PUMA, New York!!Estimate',\n",
    " \n",
    " 'NYC-Queens Community District 12--Jamaica, Hollis & St. Albans PUMA; New York!!Estimate',\n",
    "\n",
    " 'NYC-Queens Community District 10--Howard Beach & Ozone Park PUMA, New York!!Estimate',\n",
    "\n",
    " 'NYC-Queens Community District 14--Far Rockaway, Breezy Point & Broad Channel PUMA; New York!!Estimate'], axis=1)"
   ]
  },
  {
   "cell_type": "code",
   "execution_count": null,
   "id": "4793961d",
   "metadata": {},
   "outputs": [],
   "source": [
    "census_cd2_percentage = census_cd2_percentage.drop([0,1,2,3,4,5,6,7,8,9,10,11,12,13,14,15,16,17,18,19,20,21,22,24,25,26,27,28,29,30,31,32,33,34,35\n",
    "                              ,36,37,38,39,40,41,42,43,44,45,46,47,48,49,50,51,52,53,54,55,56,57,58,59,63,64,65,66,76,77,78,79,80,81,82,83,84,\n",
    "                              85,86,87,88,89,90,91,92,93,94,95,96,97,98,99,100,101,102,103,104,105,106,107,108,109,110,111,112,113,114,115,116,\n",
    "                              117,118,119,120,121,122,123,124,125,126,127,139,140,141,142,143,144,145,146,147,148,149,150,151,152,153,154,155,156,157,158,\n",
    "                              159,160,161,162,163,164,165,166,167,168,169]\n",
    "                              , axis=0)"
   ]
  },
  {
   "cell_type": "code",
   "execution_count": null,
   "id": "7521ffbe",
   "metadata": {},
   "outputs": [],
   "source": [
    "census_cd2_percentage = census_cd2_percentage.set_index('Label (Grouping)')"
   ]
  },
  {
   "cell_type": "code",
   "execution_count": null,
   "id": "b51f2b49",
   "metadata": {},
   "outputs": [],
   "source": [
    "census_cd2_percentage = census_cd2_percentage.transpose()"
   ]
  },
  {
   "cell_type": "code",
   "execution_count": null,
   "id": "250fcc4d",
   "metadata": {},
   "outputs": [],
   "source": [
    "census_cd2_percentage = census_cd2_percentage.drop('New York!!Percent',axis=0)"
   ]
  },
  {
   "cell_type": "code",
   "execution_count": null,
   "id": "68e48478",
   "metadata": {},
   "outputs": [],
   "source": [
    "census_cd2_percentage =  census_cd2_percentage.replace('%','',regex=True)   "
   ]
  },
  {
   "cell_type": "code",
   "execution_count": null,
   "id": "82cd7884",
   "metadata": {},
   "outputs": [],
   "source": [
    "census_cd2_percentage =  census_cd2_percentage.astype(float)"
   ]
  },
  {
   "cell_type": "code",
   "execution_count": null,
   "id": "6cf9e2c9",
   "metadata": {},
   "outputs": [],
   "source": [
    "repe2 = census_cd2_percentage.iloc[[4,9,16,19]]"
   ]
  },
  {
   "cell_type": "code",
   "execution_count": null,
   "id": "a3869386",
   "metadata": {},
   "outputs": [],
   "source": [
    "repe2 =(repe2/2)"
   ]
  },
  {
   "cell_type": "code",
   "execution_count": null,
   "id": "f7947721",
   "metadata": {},
   "outputs": [],
   "source": [
    "census_cd2_percentage = census_cd2_percentage.drop([\"NYC-Bronx Community District 3 & 6--Belmont, Crotona Park East & East Tremont PUMA; New York!!Percent\",\n",
    "                            \"NYC-Bronx Community District 1 & 2--Hunts Point, Longwood & Melrose PUMA; New York!!Percent\",\n",
    "                            \"NYC-Manhattan Community District 4 & 5--Chelsea, Clinton & Midtown Business District PUMA; New York!!Percent\"\n",
    "                            ,\"NYC-Manhattan Community District 1 & 2--Battery Park City, Greenwich Village & Soho PUMA; New York!!Percent\"],axis=0)"
   ]
  },
  {
   "cell_type": "code",
   "execution_count": null,
   "id": "f3d680ea",
   "metadata": {},
   "outputs": [],
   "source": [
    "census_cd2_percentage = census_cd2_percentage.append([repe2]*2)"
   ]
  },
  {
   "cell_type": "code",
   "execution_count": null,
   "id": "065008c2",
   "metadata": {},
   "outputs": [],
   "source": [
    "census_cd2_percentage['BD_name'] = BC"
   ]
  },
  {
   "cell_type": "code",
   "execution_count": null,
   "id": "72162dc6",
   "metadata": {},
   "outputs": [],
   "source": [
    "census_cd2_percentage['CD_code'] = CD_code"
   ]
  },
  {
   "cell_type": "code",
   "execution_count": null,
   "id": "c3322f7f",
   "metadata": {},
   "outputs": [],
   "source": [
    "census_cd2_percentage.to_csv('census_cd2_percentage_tableau.csv')"
   ]
  },
  {
   "cell_type": "code",
   "execution_count": null,
   "id": "8767553e",
   "metadata": {},
   "outputs": [],
   "source": []
  },
  {
   "cell_type": "code",
   "execution_count": null,
   "id": "9ba04287",
   "metadata": {},
   "outputs": [],
   "source": [
    "census_cd_percentage_total = census_cd_percentage.merge(census_cd2_percentage,on = 'CD_code',how='inner')"
   ]
  },
  {
   "cell_type": "code",
   "execution_count": null,
   "id": "6eb1532c",
   "metadata": {},
   "outputs": [],
   "source": [
    "census_cd_percentage_total.to_csv('census_cd_percentage_total.csv')"
   ]
  },
  {
   "cell_type": "code",
   "execution_count": null,
   "id": "aea570de",
   "metadata": {},
   "outputs": [],
   "source": []
  },
  {
   "cell_type": "code",
   "execution_count": null,
   "id": "9b159e4c",
   "metadata": {},
   "outputs": [],
   "source": []
  },
  {
   "cell_type": "code",
   "execution_count": null,
   "id": "51092dbb",
   "metadata": {},
   "outputs": [],
   "source": []
  },
  {
   "cell_type": "markdown",
   "id": "bf245123",
   "metadata": {},
   "source": [
    "# 2º  CLUSTERING"
   ]
  },
  {
   "cell_type": "code",
   "execution_count": null,
   "id": "26e07a2a",
   "metadata": {},
   "outputs": [],
   "source": [
    "year_dataset_member_tableau =  pd.read_csv('year_dataset_member_tableau.csv')"
   ]
  },
  {
   "cell_type": "code",
   "execution_count": null,
   "id": "a968ebf6",
   "metadata": {},
   "outputs": [],
   "source": [
    "cluster_dataset = year_dataset_member_tableau.drop(['Unnamed: 0'],axis=1)"
   ]
  },
  {
   "cell_type": "code",
   "execution_count": null,
   "id": "ea636747",
   "metadata": {},
   "outputs": [],
   "source": [
    "cluster_dataset['bike_type'] = cluster_dataset['rideable_type'].replace({'classic_bike':0,'electric_bike':2})"
   ]
  },
  {
   "cell_type": "code",
   "execution_count": null,
   "id": "ce78d359",
   "metadata": {},
   "outputs": [],
   "source": [
    "cluster_dataset['weekend'] = cluster_dataset['day_name'].replace({'Monday':0,'Tuesday':0,'Wednesday':0,'Thursday':0,\n",
    "                                                                  'Friday':0,'Saturday':5,'Sunday':5})"
   ]
  },
  {
   "cell_type": "code",
   "execution_count": null,
   "id": "c3977f36",
   "metadata": {},
   "outputs": [],
   "source": [
    "cluster_dataset['morning-evening'] = cluster_dataset['hours'].replace({0:0,1:0,2:0,3:0,4:0,5:0,6:0,7:0,8:2,9:2,\n",
    "                                                                      10:0,11:0,12:0,13:0,14:0,15:0,16:0,17:2,18:2,19:2,20:0,21:0,22:0,23:0,24:0})"
   ]
  },
  {
   "cell_type": "code",
   "execution_count": null,
   "id": "e8020e0a",
   "metadata": {},
   "outputs": [],
   "source": [
    "cluster_dataset_number = cluster_dataset.select_dtypes(include=np.number)"
   ]
  },
  {
   "cell_type": "code",
   "execution_count": null,
   "id": "45391d83",
   "metadata": {},
   "outputs": [],
   "source": [
    "cluster_dataset_number = cluster_dataset_number.drop(['start_district_code','end_district_code','start_day','start_lat','start_lng','end_lat','end_lng','Zip_code_start',\n",
    "                                                      'Zip_code_end','start_year','travel_time_minut','hours','start_day','start_month','hours'],axis=1)"
   ]
  },
  {
   "cell_type": "code",
   "execution_count": null,
   "id": "3e853757",
   "metadata": {},
   "outputs": [],
   "source": [
    "scaler = MinMaxScaler()"
   ]
  },
  {
   "cell_type": "code",
   "execution_count": null,
   "id": "41bbc6e0",
   "metadata": {},
   "outputs": [],
   "source": [
    "scaler.fit(cluster_dataset_number)"
   ]
  },
  {
   "cell_type": "code",
   "execution_count": null,
   "id": "77d1b1f7",
   "metadata": {},
   "outputs": [],
   "source": [
    "data_scaled = scaler.transform(cluster_dataset_number)"
   ]
  },
  {
   "cell_type": "code",
   "execution_count": null,
   "id": "47a89241",
   "metadata": {},
   "outputs": [],
   "source": [
    "data_scaled = pd.DataFrame(data_scaled)"
   ]
  },
  {
   "cell_type": "code",
   "execution_count": null,
   "id": "eca37735",
   "metadata": {},
   "outputs": [],
   "source": [
    "model = KMeans()"
   ]
  },
  {
   "cell_type": "code",
   "execution_count": null,
   "id": "118bce3b",
   "metadata": {},
   "outputs": [],
   "source": [
    "visualizer = KElbowVisualizer(model, k=(2,20))\n",
    "visualizer.fit(data_scaled)\n",
    "visualizer.poof()"
   ]
  },
  {
   "cell_type": "code",
   "execution_count": null,
   "id": "a66a1da4",
   "metadata": {},
   "outputs": [],
   "source": [
    "model = KMeans(n_clusters = 5)"
   ]
  },
  {
   "cell_type": "code",
   "execution_count": null,
   "id": "068d678a",
   "metadata": {},
   "outputs": [],
   "source": [
    "model.fit(data_scaled)"
   ]
  },
  {
   "cell_type": "code",
   "execution_count": null,
   "id": "8cca7e07",
   "metadata": {},
   "outputs": [],
   "source": [
    "clusters = model.predict(data_scaled)"
   ]
  },
  {
   "cell_type": "code",
   "execution_count": null,
   "id": "00ce2164",
   "metadata": {},
   "outputs": [],
   "source": [
    "cluster_dataset[\"clusters\"] = clusters"
   ]
  },
  {
   "cell_type": "code",
   "execution_count": null,
   "id": "607166c4",
   "metadata": {},
   "outputs": [],
   "source": [
    "cluster_dataset = cluster_dataset.drop(['bike_type','weekend','morning-evening'],axis=1)"
   ]
  },
  {
   "cell_type": "code",
   "execution_count": null,
   "id": "eb191b7c",
   "metadata": {},
   "outputs": [],
   "source": [
    "cluster_dataset.to_csv('year_dataset_member_tableau.csv')"
   ]
  },
  {
   "cell_type": "code",
   "execution_count": null,
   "id": "21691a11",
   "metadata": {},
   "outputs": [],
   "source": []
  },
  {
   "cell_type": "code",
   "execution_count": null,
   "id": "a09d939a",
   "metadata": {},
   "outputs": [],
   "source": []
  }
 ],
 "metadata": {
  "kernelspec": {
   "display_name": "Python 3 (ipykernel)",
   "language": "python",
   "name": "python3"
  },
  "language_info": {
   "codemirror_mode": {
    "name": "ipython",
    "version": 3
   },
   "file_extension": ".py",
   "mimetype": "text/x-python",
   "name": "python",
   "nbconvert_exporter": "python",
   "pygments_lexer": "ipython3",
   "version": "3.9.13"
  }
 },
 "nbformat": 4,
 "nbformat_minor": 5
}
